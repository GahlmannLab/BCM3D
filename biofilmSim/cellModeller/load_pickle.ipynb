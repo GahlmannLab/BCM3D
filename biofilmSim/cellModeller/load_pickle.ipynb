{
 "cells": [
  {
   "cell_type": "code",
   "execution_count": 7,
   "metadata": {},
   "outputs": [],
   "source": [
    "import sys\n",
    "import csv \n",
    "import math\n",
    "import numpy as np\n",
    "import os\n",
    "import CellModeller\n",
    "import Draw2DPDF\n",
    "import cPickle"
   ]
  },
  {
   "cell_type": "code",
   "execution_count": 8,
   "metadata": {},
   "outputs": [],
   "source": [
    "def rad_pos(cellstate):\n",
    "    return np.sqrt(cellstate.pos[0]*cellstate.pos[0]+cellstate.pos[1]*cellstate.pos[1])\n",
    "def xyz_pos(cellstate):\n",
    "    x = cellstate.pos[0]\n",
    "    y = cellstate.pos[1]\n",
    "    z = cellstate.pos[2]\n",
    "    return x,y,z\n",
    "def angle(cellstate):\n",
    "    direction = cellstate.dir\n",
    "    return\n"
   ]
  },
  {
   "cell_type": "code",
   "execution_count": 9,
   "metadata": {},
   "outputs": [
    {
     "name": "stdout",
     "output_type": "stream",
     "text": [
      "Importing CellModeller pickle file: data/myxo_fruitingBody/step-00170.pickle\n",
      "Number of cells = 343\n",
      "Importing CellModeller pickle file: data/myxo_fruitingBody/step-00160.pickle\n",
      "Number of cells = 244\n",
      "Importing CellModeller pickle file: data/myxo_fruitingBody/step-00140.pickle\n",
      "Number of cells = 282\n",
      "Importing CellModeller pickle file: data/myxo_fruitingBody/step-00150.pickle\n",
      "Number of cells = 298\n",
      "Importing CellModeller pickle file: data/myxo_fruitingBody/step-00190.pickle\n",
      "Number of cells = 313\n",
      "Importing CellModeller pickle file: data/myxo_fruitingBody/step-00100.pickle\n",
      "Number of cells = 297\n",
      "Importing CellModeller pickle file: data/myxo_fruitingBody/step-00110.pickle\n",
      "Number of cells = 311\n",
      "Importing CellModeller pickle file: data/myxo_fruitingBody/step-00180.pickle\n",
      "Number of cells = 228\n",
      "Importing CellModeller pickle file: data/myxo_fruitingBody/step-00130.pickle\n",
      "Number of cells = 473\n",
      "Importing CellModeller pickle file: data/myxo_fruitingBody/step-00120.pickle\n",
      "Number of cells = 228\n"
     ]
    }
   ],
   "source": [
    "# find and load each file in the dir\n",
    "#output 2 files: 'cell_parameters_<num>.csv', \"orientation_<num>.csv\"\n",
    "datadir =  'data/myxo_fruitingBody'\n",
    "\n",
    "for simdata in os.listdir(datadir):\n",
    "    if simdata[-7:] =='.pickle':\n",
    "        pickledata = Draw2DPDF.importPickle(datadir + '/' + simdata)\n",
    "        #    extract the cell states of each frame\n",
    "        cs = pickledata['cellStates']\n",
    "        it = iter(cs)\n",
    "        ID = []\n",
    "        for key, value in cs.iteritems():\n",
    "            ID.append(key)\n",
    "        n = len(cs)\n",
    "        print 'Number of cells = '+str(n)\n",
    "\n",
    "        # get the length, radius, oreintation/direction, and x,y,z coordinates,id\n",
    "        lens = []\n",
    "        r = [] \n",
    "        xaxis = [] \n",
    "        yaxis = [] \n",
    "        zaxis = [] \n",
    "        orientation = []\n",
    "        radius = [] # in micrometer\n",
    "        for it in cs:\n",
    "            radialPosition = rad_pos(cs[it])\n",
    "            #convert from micrometer to nanometer on length and radius\n",
    "            x,y,z = xyz_pos(cs[it]) \n",
    "            cellLength = cs[it].length\n",
    "            direction = cs[it].dir\n",
    "            radius = cs[it].radius\n",
    "            r.append(radius * 1000)\n",
    "            lens.append(cellLength * 1000)\n",
    "            xaxis.append(x* 1000)\n",
    "            yaxis.append(y* 1000)\n",
    "            zaxis.append(z* 1000)\n",
    "            orientation.append(direction)\n",
    "        # create new string\n",
    "        newstr = simdata.replace(\".pickle\", \"\")\n",
    "        #save data as a .csv file \n",
    "        with open(newstr + '.csv', 'wb') as f:\n",
    "            writer = csv.writer(f, quoting=csv.QUOTE_NONNUMERIC)\n",
    "            writer.writerow(ID)\n",
    "            writer.writerow(r)\n",
    "            writer.writerow(lens)\n",
    "            writer.writerow(xaxis)\n",
    "            writer.writerow(yaxis)\n",
    "            writer.writerow(zaxis)\n",
    "        # save orientation file, each row is a unit direction vector \n",
    "        np.savetxt(newstr + '_orientation_'\".csv\", orientation, delimiter=\",\")\n",
    "    else:\n",
    "        continue"
   ]
  },
  {
   "cell_type": "code",
   "execution_count": null,
   "metadata": {},
   "outputs": [],
   "source": []
  }
 ],
 "metadata": {
  "kernelspec": {
   "display_name": "Python 2",
   "language": "python",
   "name": "python2"
  },
  "language_info": {
   "codemirror_mode": {
    "name": "ipython",
    "version": 2
   },
   "file_extension": ".py",
   "mimetype": "text/x-python",
   "name": "python",
   "nbconvert_exporter": "python",
   "pygments_lexer": "ipython2",
   "version": "2.7.16"
  }
 },
 "nbformat": 4,
 "nbformat_minor": 2
}
