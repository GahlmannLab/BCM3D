{
 "cells": [
  {
   "cell_type": "markdown",
   "metadata": {},
   "source": [
    "# Make 3D mixed shape training data with boundary interior methods¶\n",
    "Loop into the directory Documents/unet/data/cellmodeller_simulation/to_use_GT/mix_label \n",
    "Inputs are 3D sub tif images for each class. \n",
    "Outputs are binary label image,\n",
    "and corresponding five class: 1 being the background, 2/3 being the interior/boundary of the first class,\n",
    "and 4/5 being the interior/boundary of the second class."
   ]
  },
  {
   "cell_type": "code",
   "execution_count": 1,
   "metadata": {},
   "outputs": [],
   "source": [
    "import os\n",
    "import numpy as np\n",
    "from skimage.io import imsave, imread\n",
    "from skimage.segmentation import find_boundaries\n",
    "import time, datetime\n",
    "#save as .nii file\n",
    "import nibabel as nib   \n",
    "import pathlib"
   ]
  },
  {
   "cell_type": "markdown",
   "metadata": {},
   "source": [
    "Here: specify the two classes you want to input. Class 1 is either bend or sphere: class 2 is always rod"
   ]
  },
  {
   "cell_type": "code",
   "execution_count": 2,
   "metadata": {},
   "outputs": [],
   "source": [
    "class1 = 'sphere' # change to bend if needed\n",
    "class2 =  'rod'\n",
    "nameIDX = -(len(class1) + 6)"
   ]
  },
  {
   "cell_type": "code",
   "execution_count": 3,
   "metadata": {},
   "outputs": [],
   "source": [
    "def get_boundaryInterior(image):\n",
    "    image_size_x, image_size_y = image[1].shape\n",
    "#   make a semantic mask\n",
    "    semantic_masks = np.zeros(( len(image), image_size_x, image_size_y))   #, dtype = K.floatx())\n",
    "#     print(semantic_masks.shape)\n",
    "#     print(images.shape)\n",
    "    \n",
    "    edges = find_boundaries(image, mode = 'thick')\n",
    "    interior = 2*(image > 0)\n",
    "    semantic_mask = edges + interior\n",
    "    semantic_mask[semantic_mask == 3] = 1\n",
    "#   Swap category names - edges category 2, interior category 1, background category 0\n",
    "    semantic_mask_temp = np.zeros(semantic_mask.shape, dtype = 'int')\n",
    "    semantic_mask_temp[semantic_mask == 1] = 2\n",
    "    semantic_mask_temp[semantic_mask == 2] = 1\n",
    "\n",
    "    semantic_mask = semantic_mask_temp\n",
    "    print(semantic_masks.shape)\n",
    "    # save as nii\n",
    "    binary_seg = np.transpose(semantic_mask)\n",
    "    return binary_seg"
   ]
  },
  {
   "cell_type": "markdown",
   "metadata": {},
   "source": [
    "change image directory as needed"
   ]
  },
  {
   "cell_type": "code",
   "execution_count": 4,
   "metadata": {},
   "outputs": [],
   "source": [
    "mix_dir = os.path.join('data', 'mixShape')  \n",
    "today = datetime.date.today()  \n",
    "todaystr = today.isoformat()   \n",
    "output_path= os.path.join('output', 'boundary_interior_output', todaystr) \n",
    "pathlib.Path(output_path).mkdir(parents=True, exist_ok=True) # create directory if neccessary"
   ]
  },
  {
   "cell_type": "code",
   "execution_count": 5,
   "metadata": {},
   "outputs": [
    {
     "name": "stdout",
     "output_type": "stream",
     "text": [
      "(121, 221, 221)\n",
      "(121, 221, 221)\n",
      "(121, 221, 221)\n",
      "(121, 221, 221)\n",
      "(121, 221, 221)\n",
      "(121, 221, 221)\n",
      "(121, 221, 221)\n",
      "(121, 221, 221)\n"
     ]
    }
   ],
   "source": [
    "for img in os.listdir(mix_dir):\n",
    "    if img.find(class1) != -1:\n",
    "        img_sphere = imread(os.path.join(mix_dir, img))\n",
    "#         result = find(img,'_')\n",
    "        name, ext = os.path.splitext(img)\n",
    "        img_rod = imread(os.path.join(mix_dir, name[0:nameIDX] + 'rod_Label' + ext))\n",
    "        print(img_sphere.shape)\n",
    "        print(img_rod.shape)\n",
    "        binarySeg_sphere = get_boundaryInterior(img_sphere)\n",
    "        \n",
    "        binarySeg_rod = get_boundaryInterior(img_rod)\n",
    "        binarySeg_rod[binarySeg_rod == 1] = 3\n",
    "        binarySeg_rod[binarySeg_rod == 2] = 4\n",
    "        #combine\n",
    "        binary_seg = binarySeg_rod + binarySeg_sphere\n",
    "        \n",
    "        # have problems sometimes output larger than '5' when overlap\n",
    "        binary_seg[binary_seg > 4] = 4\n",
    "        \n",
    "        # make and save nifty images\n",
    "        bseg = nib.Nifti1Image(binary_seg.astype(np.uint16), affine=np.eye(4))\n",
    "         \n",
    "        # make a new directory to save\n",
    "        new_name = img.replace('_' + class1 + '_Label.tif','')   \n",
    "        # change the saved file names\n",
    "        nib.nifti1.save(bseg, os.path.join(output_path, new_name + '_Label.nii'))\n",
    "        \n",
    "    "
   ]
  }
 ],
 "metadata": {
  "kernelspec": {
   "display_name": "Python 3",
   "language": "python",
   "name": "python3"
  },
  "language_info": {
   "codemirror_mode": {
    "name": "ipython",
    "version": 3
   },
   "file_extension": ".py",
   "mimetype": "text/x-python",
   "name": "python",
   "nbconvert_exporter": "python",
   "pygments_lexer": "ipython3",
   "version": "3.7.4"
  }
 },
 "nbformat": 4,
 "nbformat_minor": 4
}
