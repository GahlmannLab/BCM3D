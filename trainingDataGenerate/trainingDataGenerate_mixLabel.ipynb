{
 "cells": [
  {
   "cell_type": "markdown",
   "metadata": {},
   "source": [
    "# Make 3D mixed labeling training data with boundary interior methods¶¶\n",
    "Loop into the directory Documents/unet/data/cellmodeller_simulation/to_use_GT/mix_label Inputs are 3D sub tif images for each class. Outputs are binary label image, and corresponding five class: 1 being the background, 2/3 being the interior/boundary of the first class, and 4/5 being the interior/boundary of the second class."
   ]
  },
  {
   "cell_type": "code",
   "execution_count": 23,
   "metadata": {},
   "outputs": [],
   "source": [
    "import os\n",
    "import numpy as np\n",
    "import matplotlib.pyplot as plt  # for visualising and debugging\n",
    "from skimage.io import imsave, imread\n",
    "from skimage.segmentation import find_boundaries\n",
    "import time, datetime\n",
    "#save as .nii file\n",
    "import nibabel as nib   \n",
    "import pathlib"
   ]
  },
  {
   "cell_type": "code",
   "execution_count": 24,
   "metadata": {},
   "outputs": [],
   "source": [
    "import os\n",
    "import skimage as sk\n",
    "import scipy as sp\n",
    "from skimage.io import imsave, imread\n",
    "\n",
    "def get_boundaryInterior(image):\n",
    "    image_size_x, image_size_y = image[1].shape\n",
    "#   make a semantic mask\n",
    "    semantic_masks = np.zeros(( len(image), image_size_x, image_size_y))   #, dtype = K.floatx())\n",
    "#     print(semantic_masks.shape)\n",
    "#     print(images.shape)\n",
    "    \n",
    "    edges = find_boundaries(image, mode = 'thick')\n",
    "    interior = 2*(image > 0)\n",
    "    semantic_mask = edges + interior\n",
    "    semantic_mask[semantic_mask == 3] = 1\n",
    "#   Swap category names - edges category 2, interior category 1, background category 0\n",
    "    semantic_mask_temp = np.zeros(semantic_mask.shape, dtype = 'int')\n",
    "    semantic_mask_temp[semantic_mask == 1] = 2\n",
    "    semantic_mask_temp[semantic_mask == 2] = 1\n",
    "\n",
    "    semantic_mask = semantic_mask_temp\n",
    "    print(semantic_masks.shape)\n",
    "    # save as nii\n",
    "    binary_seg = np.transpose(semantic_mask)\n",
    "    return binary_seg"
   ]
  },
  {
   "cell_type": "markdown",
   "metadata": {},
   "source": [
    "An example directory. "
   ]
  },
  {
   "cell_type": "code",
   "execution_count": 25,
   "metadata": {},
   "outputs": [],
   "source": [
    "mix_dir = os.path.join('data',  'mixLabel')  "
   ]
  },
  {
   "cell_type": "code",
   "execution_count": 26,
   "metadata": {},
   "outputs": [],
   "source": [
    "# check and generate output path\n",
    "today = datetime.date.today()  \n",
    "todaystr = today.isoformat()   \n",
    "output_path= os.path.join('output', 'boundary_interior_output', todaystr) \n",
    "pathlib.Path(output_path).mkdir(parents=True, exist_ok=True) # create directory if neccessary"
   ]
  },
  {
   "cell_type": "code",
   "execution_count": 27,
   "metadata": {},
   "outputs": [
    {
     "name": "stdout",
     "output_type": "stream",
     "text": [
      "(121, 221, 221)\n",
      "(121, 221, 221)\n",
      "(121, 221, 221)\n",
      "(121, 221, 221)\n",
      "(121, 221, 221)\n",
      "(121, 221, 221)\n",
      "(121, 221, 221)\n",
      "(121, 221, 221)\n",
      "(121, 221, 221)\n",
      "(121, 221, 221)\n",
      "(121, 221, 221)\n",
      "(121, 221, 221)\n",
      "(121, 221, 221)\n",
      "(121, 221, 221)\n",
      "(121, 221, 221)\n",
      "(121, 221, 221)\n"
     ]
    }
   ],
   "source": [
    "# sphere label\n",
    "for img in os.listdir(mix_dir):\n",
    "    if img.find('surf_') != -1:\n",
    "        img_surf = imread(os.path.join(mix_dir, img))\n",
    "        import re\n",
    "        idx = [img.start() for img in re.finditer('_', img)]\n",
    "        name, ext = os.path.splitext(img)\n",
    "        img_surfInterior = imread(os.path.join(mix_dir, name[0:idx[4]+1]+ 'surfInterior_Label' + ext))\n",
    "        print(img_surf.shape)\n",
    "        print(img_surfInterior.shape)\n",
    "        binarySeg_surf = get_boundaryInterior(img_surf)\n",
    "        \n",
    "        binarySeg_surfInterior = get_boundaryInterior(img_surfInterior)\n",
    "        binarySeg_surfInterior[binarySeg_surfInterior == 1] = 3\n",
    "        binarySeg_surfInterior[binarySeg_surfInterior == 2] = 4\n",
    "        #combine\n",
    "        binary_seg = binarySeg_surfInterior + binarySeg_surf\n",
    "        \n",
    "        # have problems sometimes output larger than '5' when overlap\n",
    "        binary_seg[binary_seg > 4] = 4\n",
    "        \n",
    "        # make and save nifty images\n",
    "        bseg = nib.Nifti1Image(binary_seg.astype(np.uint16), affine=np.eye(4))\n",
    "         \n",
    "        # make a new directory to save\n",
    "        new_name = img.replace('.tif','')  \n",
    "        try: \n",
    "            new_name = new_name.replace('surf_','') \n",
    "        except:\n",
    "              print(\"didn't delete prefix\")    \n",
    "        # change the saved file names\n",
    "        nib.nifti1.save(bseg, os.path.join(output_path, new_name + '_Label.nii'))"
   ]
  }
 ],
 "metadata": {
  "kernelspec": {
   "display_name": "Python 3",
   "language": "python",
   "name": "python3"
  },
  "language_info": {
   "codemirror_mode": {
    "name": "ipython",
    "version": 3
   },
   "file_extension": ".py",
   "mimetype": "text/x-python",
   "name": "python",
   "nbconvert_exporter": "python",
   "pygments_lexer": "ipython3",
   "version": "3.7.4"
  }
 },
 "nbformat": 4,
 "nbformat_minor": 4
}
