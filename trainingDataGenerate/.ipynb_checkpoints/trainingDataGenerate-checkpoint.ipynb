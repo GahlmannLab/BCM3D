{
 "cells": [
  {
   "cell_type": "markdown",
   "metadata": {},
   "source": [
    "### This file takes Ground Truth images to label cell boundaries and interiors for training\n",
    "The inputs are 3D GT images labeled with unique integers that represent each cell object\n",
    "The outputs are nii images include\n",
    "background voxels = 0, cell interior = 1, cell boundary = 2.\n",
    "out put files are saved in ./output/boundary_interior_output"
   ]
  },
  {
   "cell_type": "code",
   "execution_count": 13,
   "metadata": {},
   "outputs": [],
   "source": [
    "import numpy as np\n",
    "import matplotlib\n",
    "import os\n",
    "import skimage.segmentation as seg\n",
    "from skimage.io import imsave, imread\n",
    "import nibabel as nib\n",
    "import pathlib"
   ]
  },
  {
   "cell_type": "markdown",
   "metadata": {},
   "source": [
    "change image directory to load images"
   ]
  },
  {
   "cell_type": "code",
   "execution_count": 14,
   "metadata": {},
   "outputs": [],
   "source": [
    "# an example \n",
    "image_dir = os.path.join('data', 'singlePopulation') "
   ]
  },
  {
   "cell_type": "code",
   "execution_count": 15,
   "metadata": {},
   "outputs": [
    {
     "name": "stdout",
     "output_type": "stream",
     "text": [
      "(120, 220, 220)\n",
      "(120, 220, 220)\n",
      "(117, 214, 214)\n",
      "(117, 214, 214)\n",
      "(116, 213, 213)\n",
      "(116, 213, 213)\n",
      "(115, 210, 210)\n",
      "(115, 210, 210)\n",
      "(133, 244, 244)\n",
      "(133, 244, 244)\n",
      "(118, 216, 216)\n",
      "(118, 216, 216)\n",
      "(119, 218, 218)\n",
      "(119, 218, 218)\n",
      "(139, 255, 255)\n",
      "(139, 255, 255)\n",
      "(119, 218, 218)\n",
      "(119, 218, 218)\n",
      "(122, 223, 223)\n",
      "(122, 223, 223)\n"
     ]
    }
   ],
   "source": [
    "for img in os.listdir(image_dir):\n",
    "    image = imread(os.path.join(image_dir, img))\n",
    "    print(image.shape)\n",
    "    image_size_x, image_size_y = image[1].shape\n",
    "#   make a semantic mask\n",
    "    semantic_masks = np.zeros(( len(image), image_size_x, image_size_y)) #, dtype = K.floatx())\n",
    "#     print(semantic_masks.shape)\n",
    "#     print(images.shape)\n",
    "    edges = seg.find_boundaries(image, mode = 'thick')\n",
    "    interior = 2*(image > 0)\n",
    "    semantic_mask = edges + interior\n",
    "    semantic_mask[semantic_mask == 3] = 1\n",
    "#   Swap category names - edges category 2, interior category 1, background category 0\n",
    "    semantic_mask_temp = np.zeros(semantic_mask.shape, dtype = 'int')\n",
    "    semantic_mask_temp[semantic_mask == 1] = 2\n",
    "    semantic_mask_temp[semantic_mask == 2] = 1\n",
    "    semantic_mask = semantic_mask_temp\n",
    "    print(semantic_masks.shape)\n",
    "    # save as nii\n",
    "    binary_seg = np.transpose(semantic_mask)\n",
    "    # make nifty images\n",
    "    bseg = nib.Nifti1Image(binary_seg.astype(np.uint32), affine=np.eye(4))\n",
    "    output_path= os.path.join('output', 'boundary_interior_output') \n",
    "    pathlib.Path(output_path).mkdir(parents=True, exist_ok=True) # create directory if neccessary\n",
    "    new_name = img.replace('.tif','')\n",
    "    # change the saved file names\n",
    "    nib.nifti1.save(bseg, os.path.join(output_path, new_name + '.nii'))\n",
    "    \n",
    "    "
   ]
  }
 ],
 "metadata": {
  "kernelspec": {
   "display_name": "Python 3",
   "language": "python",
   "name": "python3"
  },
  "language_info": {
   "codemirror_mode": {
    "name": "ipython",
    "version": 3
   },
   "file_extension": ".py",
   "mimetype": "text/x-python",
   "name": "python",
   "nbconvert_exporter": "python",
   "pygments_lexer": "ipython3",
   "version": "3.7.7"
  }
 },
 "nbformat": 4,
 "nbformat_minor": 4
}
